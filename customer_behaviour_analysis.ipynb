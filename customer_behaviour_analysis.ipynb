{
 "cells": [
  {
   "cell_type": "markdown",
   "metadata": {},
   "source": [
    "# **Customer Behaviour Analysis Project**\n",
    "## Python , Pandas, SQL\n"
   ]
  },
  {
   "cell_type": "markdown",
   "metadata": {},
   "source": [
    "# Step 1: Read the .csv file using pandas"
   ]
  },
  {
   "cell_type": "code",
   "execution_count": 2,
   "metadata": {},
   "outputs": [],
   "source": [
    "# import modules\n",
    "\n",
    "import pandas as pd   \n",
    "import numpy as np\n",
    "from mysql.connector import connect as ct"
   ]
  },
  {
   "cell_type": "code",
   "execution_count": 4,
   "metadata": {},
   "outputs": [],
   "source": [
    "\n",
    "# File paths\n",
    "\n",
    "customer_journey =   'customer_journey.csv'\n",
    "customer_reviews =   'customer_reviews.csv'\n",
    "customers =   'customers.csv'\n",
    "engagement_data =   'engagement_data.csv'\n",
    "geography =   'geography.csv'\n",
    "products =   'products.csv'\n",
    "\n",
    "# Load  each dataset\n",
    "\n",
    "df_customer_journey = pd.read_csv(customer_journey)\n",
    "df_customer_reviews = pd.read_csv(customer_reviews)\n",
    "df_customers = pd.read_csv(customers)\n",
    "df_engagement_data = pd.read_csv(engagement_data)\n",
    "df_geography = pd.read_csv(geography)\n",
    "df_products= pd.read_csv(products)\n"
   ]
  },
  {
   "cell_type": "markdown",
   "metadata": {},
   "source": [
    "### 1. Check data_overview, column names and data types"
   ]
  },
  {
   "cell_type": "code",
   "execution_count": 5,
   "metadata": {},
   "outputs": [
    {
     "name": "stdout",
     "output_type": "stream",
     "text": [
      "   JourneyID  CustomerID  ProductID   VisitDate        Stage    Action  \\\n",
      "0          1          64         18  2024-06-10     Checkout  Drop-off   \n",
      "1          2          94         11  2025-07-09     Checkout  Drop-off   \n",
      "2          3          34          8  2024-06-14  ProductPage      View   \n",
      "3          4          33         18  2025-05-28     Checkout  Drop-off   \n",
      "4          5          91         10  2023-02-11     Homepage     Click   \n",
      "\n",
      "   Duration  \n",
      "0       NaN  \n",
      "1       NaN  \n",
      "2     235.0  \n",
      "3       NaN  \n",
      "4     156.0  \n"
     ]
    }
   ],
   "source": [
    "print(df_customer_journey.head())\n"
   ]
  },
  {
   "cell_type": "code",
   "execution_count": 6,
   "metadata": {},
   "outputs": [
    {
     "name": "stdout",
     "output_type": "stream",
     "text": [
      "   ReviewID  CustomerID  ProductID  ReviewDate  Rating  \\\n",
      "0         1          77         18  2023-12-23       3   \n",
      "1         2          80         19  2024-12-25       5   \n",
      "2         3          50         13  2025-01-26       4   \n",
      "3         4          78         15  2025-04-21       3   \n",
      "4         5          64          2  2023-07-16       3   \n",
      "\n",
      "                                 ReviewText  \n",
      "0   Average  experience,  nothing  special.  \n",
      "1            The  quality  is    top-notch.  \n",
      "2   Five  stars  for  the  quick  delivery.  \n",
      "3  Good  quality,  but  could  be  cheaper.  \n",
      "4   Average  experience,  nothing  special.  \n"
     ]
    }
   ],
   "source": [
    "print(df_customer_reviews.head())"
   ]
  },
  {
   "cell_type": "code",
   "execution_count": 21,
   "metadata": {},
   "outputs": [
    {
     "name": "stdout",
     "output_type": "stream",
     "text": [
      "   CustomerID      CustomerName                         Email  Gender  Age  \\\n",
      "0           1     Emma Anderson     emma.anderson@example.com    Male   50   \n",
      "1           2       Sarah Brown       sarah.brown@example.com  Female   37   \n",
      "2           3  Robert Hernandez  robert.hernandez@example.com  Female   26   \n",
      "3           4      David Garcia      david.garcia@example.com    Male   25   \n",
      "4           5       Emma Miller       emma.miller@example.com  Female   41   \n",
      "\n",
      "   GeographyID  \n",
      "0            2  \n",
      "1            4  \n",
      "2            6  \n",
      "3            8  \n",
      "4            4  \n"
     ]
    }
   ],
   "source": [
    "print(df_customers.head())"
   ]
  },
  {
   "cell_type": "code",
   "execution_count": 22,
   "metadata": {},
   "outputs": [
    {
     "name": "stdout",
     "output_type": "stream",
     "text": [
      "   EngagementID  ContentID ContentType  Likes EngagementDate  CampaignID  \\\n",
      "0             1         39        Blog    190     2023-08-30           1   \n",
      "1             2         48        Blog    114     2023-03-28          18   \n",
      "2             3         16       video     32     2023-12-08           7   \n",
      "3             4         43       Video     17     2025-01-21          19   \n",
      "4             5         16  newsletter    306     2024-02-21           6   \n",
      "\n",
      "   ProductID ViewsClicksCombined  \n",
      "0          9            1883-671  \n",
      "1         20            5280-532  \n",
      "2         14            1905-204  \n",
      "3         20            2766-257  \n",
      "4         15           5116-1524  \n"
     ]
    }
   ],
   "source": [
    "print(df_engagement_data.head())"
   ]
  },
  {
   "cell_type": "code",
   "execution_count": 23,
   "metadata": {},
   "outputs": [
    {
     "name": "stdout",
     "output_type": "stream",
     "text": [
      "   GeographyID  Country    City\n",
      "0            1       UK  London\n",
      "1            2  Germany  Berlin\n",
      "2            3   France   Paris\n",
      "3            4    Spain  Madrid\n",
      "4            5    Italy    Rome\n"
     ]
    }
   ],
   "source": [
    "print(df_geography.head())"
   ]
  },
  {
   "cell_type": "code",
   "execution_count": 24,
   "metadata": {},
   "outputs": [
    {
     "name": "stdout",
     "output_type": "stream",
     "text": [
      "   ProductID      ProductName Category   Price\n",
      "0          1    Running Shoes   Sports  223.75\n",
      "1          2  Fitness Tracker   Sports  196.68\n",
      "2          3         Yoga Mat   Sports  485.32\n",
      "3          4        Dumbbells   Sports   26.21\n",
      "4          5      Soccer Ball   Sports   41.26\n"
     ]
    }
   ],
   "source": [
    "print(df_products.head())"
   ]
  },
  {
   "cell_type": "markdown",
   "metadata": {},
   "source": [
    "### 2. Check for null values"
   ]
  },
  {
   "cell_type": "code",
   "execution_count": 7,
   "metadata": {},
   "outputs": [
    {
     "name": "stdout",
     "output_type": "stream",
     "text": [
      "JourneyID      0\n",
      "CustomerID     0\n",
      "ProductID      0\n",
      "VisitDate      0\n",
      "Stage          0\n",
      "Action         0\n",
      "Duration      14\n",
      "dtype: int64\n"
     ]
    }
   ],
   "source": [
    "print(df_customer_journey.isnull().sum())"
   ]
  },
  {
   "cell_type": "code",
   "execution_count": 37,
   "metadata": {},
   "outputs": [
    {
     "name": "stdout",
     "output_type": "stream",
     "text": [
      "ReviewID      0\n",
      "CustomerID    0\n",
      "ProductID     0\n",
      "ReviewDate    0\n",
      "Rating        0\n",
      "ReviewText    0\n",
      "dtype: int64\n"
     ]
    }
   ],
   "source": [
    "print(df_customer_reviews.isnull().sum())"
   ]
  },
  {
   "cell_type": "code",
   "execution_count": 26,
   "metadata": {},
   "outputs": [
    {
     "name": "stdout",
     "output_type": "stream",
     "text": [
      "CustomerID      0\n",
      "CustomerName    0\n",
      "Email           0\n",
      "Gender          0\n",
      "Age             0\n",
      "GeographyID     0\n",
      "dtype: int64\n"
     ]
    }
   ],
   "source": [
    "print(df_customers.isnull().sum())\n"
   ]
  },
  {
   "cell_type": "code",
   "execution_count": 38,
   "metadata": {},
   "outputs": [
    {
     "name": "stdout",
     "output_type": "stream",
     "text": [
      "EngagementID           0\n",
      "ContentID              0\n",
      "ContentType            0\n",
      "Likes                  0\n",
      "EngagementDate         0\n",
      "CampaignID             0\n",
      "ProductID              0\n",
      "ViewsClicksCombined    0\n",
      "dtype: int64\n"
     ]
    }
   ],
   "source": [
    "print(df_engagement_data.isnull().sum())"
   ]
  },
  {
   "cell_type": "code",
   "execution_count": 39,
   "metadata": {},
   "outputs": [
    {
     "name": "stdout",
     "output_type": "stream",
     "text": [
      "GeographyID    0\n",
      "Country        0\n",
      "City           0\n",
      "dtype: int64\n"
     ]
    }
   ],
   "source": [
    "print(df_geography.isnull().sum())"
   ]
  },
  {
   "cell_type": "code",
   "execution_count": 29,
   "metadata": {},
   "outputs": [
    {
     "name": "stdout",
     "output_type": "stream",
     "text": [
      "ProductID      0\n",
      "ProductName    0\n",
      "Category       0\n",
      "Price          0\n",
      "dtype: int64\n"
     ]
    }
   ],
   "source": [
    "print(df_products.isnull().sum())"
   ]
  },
  {
   "cell_type": "markdown",
   "metadata": {},
   "source": [
    "### 3 Clean the null values in \"customer_journey::dauration\" column\n"
   ]
  },
  {
   "cell_type": "code",
   "execution_count": 8,
   "metadata": {},
   "outputs": [],
   "source": [
    "df_customer_journey = df_customer_journey.fillna(df_customer_journey.mean(numeric_only=True))\n",
    "# df_customer_journey = df_customer_journey[\"Duration\"].fillna(0)\n",
    "\n"
   ]
  },
  {
   "cell_type": "code",
   "execution_count": 9,
   "metadata": {},
   "outputs": [
    {
     "name": "stdout",
     "output_type": "stream",
     "text": [
      "<class 'pandas.core.frame.DataFrame'>\n",
      "RangeIndex: 100 entries, 0 to 99\n",
      "Data columns (total 7 columns):\n",
      " #   Column      Non-Null Count  Dtype  \n",
      "---  ------      --------------  -----  \n",
      " 0   JourneyID   100 non-null    int64  \n",
      " 1   CustomerID  100 non-null    int64  \n",
      " 2   ProductID   100 non-null    int64  \n",
      " 3   VisitDate   100 non-null    object \n",
      " 4   Stage       100 non-null    object \n",
      " 5   Action      100 non-null    object \n",
      " 6   Duration    100 non-null    float64\n",
      "dtypes: float64(1), int64(3), object(3)\n",
      "memory usage: 5.6+ KB\n"
     ]
    }
   ],
   "source": [
    "df_customer_journey.info()"
   ]
  },
  {
   "cell_type": "markdown",
   "metadata": {},
   "source": [
    "### 4 Split the 'views-clicks' column in df_engagement data"
   ]
  },
  {
   "cell_type": "code",
   "execution_count": 10,
   "metadata": {},
   "outputs": [],
   "source": [
    "\n",
    "views_clicks = df_engagement_data[\"ViewsClicksCombined\"].str.split(\"-\", expand=True)\n",
    "df_engagement_data[\"Views\"] = views_clicks[0].astype(int)\n",
    "df_engagement_data[\"Clicks\"] = views_clicks[1].astype(int)\n",
    "df_engagement_data.drop(columns=[\"ViewsClicksCombined\"], inplace=True)"
   ]
  },
  {
   "cell_type": "code",
   "execution_count": 95,
   "metadata": {},
   "outputs": [
    {
     "data": {
      "text/html": [
       "<div>\n",
       "<style scoped>\n",
       "    .dataframe tbody tr th:only-of-type {\n",
       "        vertical-align: middle;\n",
       "    }\n",
       "\n",
       "    .dataframe tbody tr th {\n",
       "        vertical-align: top;\n",
       "    }\n",
       "\n",
       "    .dataframe thead th {\n",
       "        text-align: right;\n",
       "    }\n",
       "</style>\n",
       "<table border=\"1\" class=\"dataframe\">\n",
       "  <thead>\n",
       "    <tr style=\"text-align: right;\">\n",
       "      <th></th>\n",
       "      <th>EngagementID</th>\n",
       "      <th>ContentID</th>\n",
       "      <th>ContentType</th>\n",
       "      <th>Likes</th>\n",
       "      <th>EngagementDate</th>\n",
       "      <th>CampaignID</th>\n",
       "      <th>ProductID</th>\n",
       "      <th>Views</th>\n",
       "      <th>Clicks</th>\n",
       "    </tr>\n",
       "  </thead>\n",
       "  <tbody>\n",
       "    <tr>\n",
       "      <th>0</th>\n",
       "      <td>1</td>\n",
       "      <td>39</td>\n",
       "      <td>Blog</td>\n",
       "      <td>190</td>\n",
       "      <td>2023-08-30</td>\n",
       "      <td>1</td>\n",
       "      <td>9</td>\n",
       "      <td>1883</td>\n",
       "      <td>671</td>\n",
       "    </tr>\n",
       "    <tr>\n",
       "      <th>1</th>\n",
       "      <td>2</td>\n",
       "      <td>48</td>\n",
       "      <td>Blog</td>\n",
       "      <td>114</td>\n",
       "      <td>2023-03-28</td>\n",
       "      <td>18</td>\n",
       "      <td>20</td>\n",
       "      <td>5280</td>\n",
       "      <td>532</td>\n",
       "    </tr>\n",
       "    <tr>\n",
       "      <th>2</th>\n",
       "      <td>3</td>\n",
       "      <td>16</td>\n",
       "      <td>video</td>\n",
       "      <td>32</td>\n",
       "      <td>2023-12-08</td>\n",
       "      <td>7</td>\n",
       "      <td>14</td>\n",
       "      <td>1905</td>\n",
       "      <td>204</td>\n",
       "    </tr>\n",
       "    <tr>\n",
       "      <th>3</th>\n",
       "      <td>4</td>\n",
       "      <td>43</td>\n",
       "      <td>Video</td>\n",
       "      <td>17</td>\n",
       "      <td>2025-01-21</td>\n",
       "      <td>19</td>\n",
       "      <td>20</td>\n",
       "      <td>2766</td>\n",
       "      <td>257</td>\n",
       "    </tr>\n",
       "    <tr>\n",
       "      <th>4</th>\n",
       "      <td>5</td>\n",
       "      <td>16</td>\n",
       "      <td>newsletter</td>\n",
       "      <td>306</td>\n",
       "      <td>2024-02-21</td>\n",
       "      <td>6</td>\n",
       "      <td>15</td>\n",
       "      <td>5116</td>\n",
       "      <td>1524</td>\n",
       "    </tr>\n",
       "  </tbody>\n",
       "</table>\n",
       "</div>"
      ],
      "text/plain": [
       "   EngagementID  ContentID ContentType  Likes EngagementDate  CampaignID  \\\n",
       "0             1         39        Blog    190     2023-08-30           1   \n",
       "1             2         48        Blog    114     2023-03-28          18   \n",
       "2             3         16       video     32     2023-12-08           7   \n",
       "3             4         43       Video     17     2025-01-21          19   \n",
       "4             5         16  newsletter    306     2024-02-21           6   \n",
       "\n",
       "   ProductID  Views  Clicks  \n",
       "0          9   1883     671  \n",
       "1         20   5280     532  \n",
       "2         14   1905     204  \n",
       "3         20   2766     257  \n",
       "4         15   5116    1524  "
      ]
     },
     "execution_count": 95,
     "metadata": {},
     "output_type": "execute_result"
    }
   ],
   "source": [
    "df_engagement_data.head()"
   ]
  },
  {
   "cell_type": "markdown",
   "metadata": {},
   "source": [
    "# Step 2. Using MySQL Connector"
   ]
  },
  {
   "cell_type": "code",
   "execution_count": 11,
   "metadata": {},
   "outputs": [
    {
     "name": "stdout",
     "output_type": "stream",
     "text": [
      "MySQL connection established!\n"
     ]
    }
   ],
   "source": [
    "conn = ct(\n",
    "\n",
    "    host=\"localhost\",\n",
    "    user=\"root\",\n",
    "    password=\"Click\"\n",
    ")\n",
    "\n",
    "cursor = conn.cursor()\n",
    "print(\"MySQL connection established!\")\n",
    "\n",
    "\n"
   ]
  },
  {
   "cell_type": "markdown",
   "metadata": {},
   "source": [
    "## Step 2. Create DB \"customer_behaviour\""
   ]
  },
  {
   "cell_type": "code",
   "execution_count": null,
   "metadata": {},
   "outputs": [
    {
     "name": "stdout",
     "output_type": "stream",
     "text": [
      "MySQL database 'weather_db' created successfully!\n"
     ]
    }
   ],
   "source": [
    "cursor.execute(\"create DATABASE IF NOT EXISTS customer_behaviour_db\")\n",
    "print(\"MySQL database 'customer_behaviour_db' created successfully!\")"
   ]
  },
  {
   "cell_type": "code",
   "execution_count": 13,
   "metadata": {},
   "outputs": [
    {
     "name": "stdout",
     "output_type": "stream",
     "text": [
      "MySQL database 'customer_behaviour_db' is being used!\n"
     ]
    }
   ],
   "source": [
    "cursor.execute(\" USE customer_behaviour_db\")\n",
    "print(\"MySQL database 'customer_behaviour_db' is being used!\")\n"
   ]
  },
  {
   "cell_type": "markdown",
   "metadata": {},
   "source": [
    "## 23 Create a Table in MySQL"
   ]
  },
  {
   "cell_type": "code",
   "execution_count": 66,
   "metadata": {},
   "outputs": [
    {
     "name": "stdout",
     "output_type": "stream",
     "text": [
      "Table 'geography' created successfully in MySQL!\n"
     ]
    }
   ],
   "source": [
    "# Geography Table\n",
    "\n",
    "cursor.execute(\"\"\"\n",
    "    create table if not exists geography (\n",
    "        GeographyID INT PRIMARY KEY,\n",
    "        Country VARCHAR(50),\n",
    "        City VARCHAR(50)               \n",
    "    )\n",
    "\"\"\")\n",
    "\n",
    "conn.commit()\n",
    "print(\"Table 'geography' created successfully in MySQL!\")"
   ]
  },
  {
   "cell_type": "code",
   "execution_count": 67,
   "metadata": {},
   "outputs": [
    {
     "name": "stdout",
     "output_type": "stream",
     "text": [
      "Table 'products' created successfully in MySQL!\n"
     ]
    }
   ],
   "source": [
    "# Products Table\n",
    "\n",
    "cursor.execute(\"\"\"\n",
    "    create table if not exists products (\n",
    "        ProductID INT auto_increment primary key,\n",
    "        ProductName varchar(50),\n",
    "        Category varchar(50),\n",
    "        Price float\n",
    "        )\n",
    "\"\"\")\n",
    "\n",
    "conn.commit()\n",
    "print(\"Table 'products' created successfully in MySQL!\")"
   ]
  },
  {
   "cell_type": "code",
   "execution_count": 68,
   "metadata": {},
   "outputs": [
    {
     "name": "stdout",
     "output_type": "stream",
     "text": [
      "Table 'customers' created successfully in MySQL!\n"
     ]
    }
   ],
   "source": [
    "# Customers Table\n",
    "cursor.execute(\"\"\"\n",
    "    CREATE TABLE IF NOT EXISTS customers (\n",
    "        CustomerID INT auto_increment PRIMARY KEY,\n",
    "        CustomerName VARCHAR(255),\n",
    "        Email VARCHAR(255),\n",
    "        Gender VARCHAR(10),\n",
    "        Age INT,\n",
    "        GeographyID INT,\n",
    "        foreign key (GeographyID) references geography(GeographyID)               \n",
    "    )\n",
    "\"\"\")\n",
    "\n",
    "conn.commit()\n",
    "\n",
    "print(\"Table 'customers' created successfully in MySQL!\")"
   ]
  },
  {
   "cell_type": "code",
   "execution_count": null,
   "metadata": {},
   "outputs": [],
   "source": [
    "# cursor.execute('drop table customer_journey ')\n",
    "# conn.commit()"
   ]
  },
  {
   "cell_type": "code",
   "execution_count": 131,
   "metadata": {},
   "outputs": [
    {
     "name": "stdout",
     "output_type": "stream",
     "text": [
      "Table 'customer_journey' created successfully in MySQL!\n"
     ]
    }
   ],
   "source": [
    "# Customer Journey Table\n",
    "\n",
    "cursor.execute(\"\"\"\n",
    "    CREATE TABLE IF NOT EXISTS customer_journey (\n",
    "        JourneyID INT PRIMARY KEY,\n",
    "        CustomerID INT,\n",
    "        ProductID INT,\n",
    "        VisitDate DATE,\n",
    "        Stage VARCHAR(50),\n",
    "        Action VARCHAR(50),\n",
    "        Duration float,\n",
    "        FOREIGN KEY (CustomerID) REFERENCES customers(CustomerID)\n",
    "    )\n",
    "\"\"\")\n",
    "\n",
    "conn.commit()\n",
    "print(\"Table 'customer_journey' created successfully in MySQL!\")"
   ]
  },
  {
   "cell_type": "code",
   "execution_count": 70,
   "metadata": {},
   "outputs": [
    {
     "name": "stdout",
     "output_type": "stream",
     "text": [
      "Table 'customer_reviews' created successfully in MySQL!\n"
     ]
    }
   ],
   "source": [
    "# Customer Reviews Table\n",
    "\n",
    "cursor.execute(\"\"\"\n",
    "    CREATE TABLE IF NOT EXISTS customer_reviews (\n",
    "        ReviewID INT PRIMARY KEY,\n",
    "        CustomerID INT,\n",
    "        ProductID INT,\n",
    "        ReviewDate DATE,\n",
    "        Rating INT,\n",
    "        ReviewText TEXT,\n",
    "        Sentiment VARCHAR(20),\n",
    "        FOREIGN KEY (CustomerID) REFERENCES customers(CustomerID)\n",
    "    )\n",
    "\"\"\")\n",
    "\n",
    "conn.commit()\n",
    "print(\"Table 'customer_reviews' created successfully in MySQL!\")"
   ]
  },
  {
   "cell_type": "code",
   "execution_count": null,
   "metadata": {},
   "outputs": [],
   "source": [
    "# Engagement Data Table\n",
    "\n",
    "cursor.execute(\"\"\"\n",
    "    CREATE TABLE IF NOT EXISTS engagement_data (\n",
    "        EngagementID INT PRIMARY KEY,\n",
    "        ContentID INT,\n",
    "        ContentType VARCHAR(50),\n",
    "        Likes INT,\n",
    "        EngagementDate DATE,\n",
    "        CampaignID INT,\n",
    "        ProductID INT,\n",
    "        Views INT,\n",
    "        Clicks INT,\n",
    "\t\tFOREIGN KEY (ProductID) REFERENCES products(ProductID)\n",
    "    )\n",
    "\"\"\")"
   ]
  },
  {
   "cell_type": "markdown",
   "metadata": {},
   "source": [
    "## Step 3: Inserting Data into the Tables\n",
    "Now, we'll insert data from the Pandas DataFrame into the SQL table using to_list()."
   ]
  },
  {
   "cell_type": "code",
   "execution_count": 73,
   "metadata": {},
   "outputs": [
    {
     "name": "stdout",
     "output_type": "stream",
     "text": [
      "Data inserted using to_list()\n"
     ]
    }
   ],
   "source": [
    "data_list = df_geography.values.tolist()\n",
    "query = \"\"\"\n",
    "    INSERT INTO geography (GeographyID,\tCountry, City)\n",
    "    VALUES (%s, %s, %s);\n",
    "\"\"\"\n",
    "cursor.executemany(query, data_list)\n",
    "conn.commit()\n",
    "print(\"Data inserted using to_list()\")"
   ]
  },
  {
   "cell_type": "code",
   "execution_count": 74,
   "metadata": {},
   "outputs": [
    {
     "name": "stdout",
     "output_type": "stream",
     "text": [
      "Data inserted using to_list()\n"
     ]
    }
   ],
   "source": [
    "data_list = df_products.values.tolist()\n",
    "query = \"\"\"\n",
    "    INSERT INTO products (ProductID, ProductName, Category, Price)\n",
    "    VALUES (%s, %s, %s, %s);\n",
    "\"\"\"\n",
    "cursor.executemany(query, data_list)\n",
    "conn.commit()\n",
    "print(\"Data inserted using to_list()\")"
   ]
  },
  {
   "cell_type": "code",
   "execution_count": 75,
   "metadata": {},
   "outputs": [
    {
     "name": "stdout",
     "output_type": "stream",
     "text": [
      "Data inserted using to_list()\n"
     ]
    }
   ],
   "source": [
    "data_list = df_customers.values.tolist()\n",
    "query = \"\"\"\n",
    "    INSERT INTO customers (CustomerID, CustomerName, Email, Gender, Age, GeographyID)\n",
    "    VALUES (%s, %s, %s, %s, %s, %s);\n",
    "\"\"\"\n",
    "cursor.executemany(query, data_list)\n",
    "conn.commit()\n",
    "print(\"Data inserted using to_list()\")"
   ]
  },
  {
   "cell_type": "code",
   "execution_count": 98,
   "metadata": {},
   "outputs": [
    {
     "name": "stdout",
     "output_type": "stream",
     "text": [
      "   JourneyID  CustomerID  ProductID   VisitDate        Stage    Action  \\\n",
      "0          1          64         18  2024-06-10     Checkout  Drop-off   \n",
      "1          2          94         11  2025-07-09     Checkout  Drop-off   \n",
      "2          3          34          8  2024-06-14  ProductPage      View   \n",
      "3          4          33         18  2025-05-28     Checkout  Drop-off   \n",
      "4          5          91         10  2023-02-11     Homepage     Click   \n",
      "\n",
      "   Duration  \n",
      "0       NaN  \n",
      "1       NaN  \n",
      "2     235.0  \n",
      "3       NaN  \n",
      "4     156.0  \n"
     ]
    }
   ],
   "source": [
    "print(df_customer_journey.head())"
   ]
  },
  {
   "cell_type": "code",
   "execution_count": 136,
   "metadata": {},
   "outputs": [
    {
     "name": "stdout",
     "output_type": "stream",
     "text": [
      "Data inserted using to_list()\n"
     ]
    }
   ],
   "source": [
    "data_list = df_customer_journey.values.tolist()\n",
    "query = \"\"\"\n",
    "    INSERT INTO customer_journey (JourneyID, CustomerID, ProductID, VisitDate, Stage, Action, Duration)\n",
    "    VALUES (%s, %s, %s, %s, %s, %s, %s);\n",
    "\"\"\"\n",
    "cursor.executemany(query, data_list)\n",
    "conn.commit()\n",
    "print(\"Data inserted using to_list()\")"
   ]
  },
  {
   "cell_type": "code",
   "execution_count": 122,
   "metadata": {},
   "outputs": [
    {
     "name": "stdout",
     "output_type": "stream",
     "text": [
      "Data inserted using to_list()\n"
     ]
    }
   ],
   "source": [
    "data_list = df_customer_reviews.values.tolist()\n",
    "query = \"\"\"\n",
    "    INSERT INTO customer_reviews (ReviewID, CustomerID, ProductID, ReviewDate, Rating, ReviewText)\n",
    "    VALUES (%s, %s, %s, %s, %s, %s);\n",
    "\"\"\"\n",
    "cursor.executemany(query, data_list)\n",
    "conn.commit()\n",
    "print(\"Data inserted using to_list()\")"
   ]
  },
  {
   "cell_type": "code",
   "execution_count": 101,
   "metadata": {},
   "outputs": [
    {
     "name": "stdout",
     "output_type": "stream",
     "text": [
      "Data inserted using to_list()\n"
     ]
    }
   ],
   "source": [
    "data_list = df_engagement_data.values.tolist()\n",
    "query = \"\"\"\n",
    "    INSERT INTO engagement_data (EngagementID, ContentID, ContentType, Likes, EngagementDate, CampaignID, ProductID ,Views, Clicks)\n",
    "    VALUES (%s, %s, %s, %s, %s, %s, %s, %s, %s);\n",
    "\"\"\"\n",
    "cursor.executemany(query, data_list)\n",
    "conn.commit()\n",
    "print(\"Data inserted using to_list()\")"
   ]
  },
  {
   "cell_type": "markdown",
   "metadata": {},
   "source": [
    "# Step 3: Running SQL Queries\n",
    "Now, we will execute five SQL queries to analyze the customer behaviour"
   ]
  },
  {
   "cell_type": "markdown",
   "metadata": {},
   "source": [
    "### count drop-offs at different stages\n"
   ]
  },
  {
   "cell_type": "code",
   "execution_count": 24,
   "metadata": {},
   "outputs": [],
   "source": [
    "cursor = conn.cursor(buffered=True)   #ensures that all query results are automatically fetched, preventing the error"
   ]
  },
  {
   "cell_type": "code",
   "execution_count": null,
   "metadata": {},
   "outputs": [
    {
     "name": "stdout",
     "output_type": "stream",
     "text": [
      "Stage | Drop-offs\n",
      "-----------------\n",
      "Checkout | 14\n"
     ]
    }
   ],
   "source": [
    "# The biggest bottlenecks happen where customers drop off       \n",
    "\n",
    "\n",
    "cursor.execute(\"\"\"\n",
    "        SELECT Stage, COUNT(*) AS DropOffs\n",
    "        FROM customer_journey\n",
    "        WHERE Action = 'Drop-off'\n",
    "        GROUP BY Stage\n",
    "        ORDER BY DropOffs DESC;\n",
    "        \"\"\")\n",
    "\n",
    "results = cursor.fetchall()  # Ensure results are read\n",
    "\n",
    "print(\"Stage | Drop-offs\")\n",
    "print(\"-----------------\")\n",
    "for row in results:\n",
    "    print(f\"{row[0]} | {row[1]}\")\n",
    "\n"
   ]
  },
  {
   "cell_type": "code",
   "execution_count": 26,
   "metadata": {},
   "outputs": [
    {
     "name": "stdout",
     "output_type": "stream",
     "text": [
      "[('Checkout', 14)]\n"
     ]
    }
   ],
   "source": [
    "\n",
    "\n",
    "print(results)\n"
   ]
  },
  {
   "cell_type": "code",
   "execution_count": 137,
   "metadata": {},
   "outputs": [],
   "source": [
    "conn.commit()\n",
    "cursor.close()\n",
    "conn.close()"
   ]
  }
 ],
 "metadata": {
  "kernelspec": {
   "display_name": "Python 3",
   "language": "python",
   "name": "python3"
  },
  "language_info": {
   "codemirror_mode": {
    "name": "ipython",
    "version": 3
   },
   "file_extension": ".py",
   "mimetype": "text/x-python",
   "name": "python",
   "nbconvert_exporter": "python",
   "pygments_lexer": "ipython3",
   "version": "3.10.2"
  }
 },
 "nbformat": 4,
 "nbformat_minor": 2
}
